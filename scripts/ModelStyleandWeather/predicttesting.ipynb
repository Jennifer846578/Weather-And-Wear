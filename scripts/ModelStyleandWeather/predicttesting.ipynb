{
 "cells": [
  {
   "cell_type": "code",
   "execution_count": 1,
   "metadata": {},
   "outputs": [
    {
     "name": "stdout",
     "output_type": "stream",
     "text": [
      "Requirement already satisfied: river in c:\\users\\elson\\appdata\\local\\packages\\pythonsoftwarefoundation.python.3.11_qbz5n2kfra8p0\\localcache\\local-packages\\python311\\site-packages (0.22.0)\n",
      "Requirement already satisfied: numpy>=1.23.0 in c:\\users\\elson\\appdata\\local\\packages\\pythonsoftwarefoundation.python.3.11_qbz5n2kfra8p0\\localcache\\local-packages\\python311\\site-packages (from river) (1.26.3)\n",
      "Requirement already satisfied: pandas<3.0.0,>=2.2.3 in c:\\users\\elson\\appdata\\local\\packages\\pythonsoftwarefoundation.python.3.11_qbz5n2kfra8p0\\localcache\\local-packages\\python311\\site-packages (from river) (2.2.3)\n",
      "Requirement already satisfied: scipy<2.0.0,>=1.14.1 in c:\\users\\elson\\appdata\\local\\packages\\pythonsoftwarefoundation.python.3.11_qbz5n2kfra8p0\\localcache\\local-packages\\python311\\site-packages (from river) (1.15.2)\n",
      "Requirement already satisfied: python-dateutil>=2.8.2 in c:\\users\\elson\\appdata\\local\\packages\\pythonsoftwarefoundation.python.3.11_qbz5n2kfra8p0\\localcache\\local-packages\\python311\\site-packages (from pandas<3.0.0,>=2.2.3->river) (2.9.0.post0)\n",
      "Requirement already satisfied: pytz>=2020.1 in c:\\users\\elson\\appdata\\local\\packages\\pythonsoftwarefoundation.python.3.11_qbz5n2kfra8p0\\localcache\\local-packages\\python311\\site-packages (from pandas<3.0.0,>=2.2.3->river) (2025.1)\n",
      "Requirement already satisfied: tzdata>=2022.7 in c:\\users\\elson\\appdata\\local\\packages\\pythonsoftwarefoundation.python.3.11_qbz5n2kfra8p0\\localcache\\local-packages\\python311\\site-packages (from pandas<3.0.0,>=2.2.3->river) (2025.1)\n",
      "Requirement already satisfied: six>=1.5 in c:\\users\\elson\\appdata\\local\\packages\\pythonsoftwarefoundation.python.3.11_qbz5n2kfra8p0\\localcache\\local-packages\\python311\\site-packages (from python-dateutil>=2.8.2->pandas<3.0.0,>=2.2.3->river) (1.17.0)\n"
     ]
    },
    {
     "name": "stderr",
     "output_type": "stream",
     "text": [
      "\n",
      "[notice] A new release of pip is available: 23.3.2 -> 25.0.1\n",
      "[notice] To update, run: C:\\Users\\elson\\AppData\\Local\\Microsoft\\WindowsApps\\PythonSoftwareFoundation.Python.3.11_qbz5n2kfra8p0\\python.exe -m pip install --upgrade pip\n"
     ]
    }
   ],
   "source": [
    "! pip install river"
   ]
  },
  {
   "cell_type": "code",
   "execution_count": 2,
   "metadata": {},
   "outputs": [],
   "source": [
    "from PredictScore import PredictorScore as predict\n",
    "import os\n",
    "import pickle\n",
    "import pandas as pd\n",
    "from ClassModelWeather import UserOutfitModel as weather_model\n",
    "from ClassModelStyle import UserOutfitModelS as style_model\n",
    "from ClassModelCombination import PredictCombinationScore as combi_model\n",
    "import numpy as np"
   ]
  },
  {
   "cell_type": "markdown",
   "metadata": {},
   "source": [
    "jika ingin membuat file baru dengan fresh, buatlah unique user agar file historikal user masih baru, jika user sudah terdaftar, dia akan memakai "
   ]
  },
  {
   "cell_type": "code",
   "execution_count": 3,
   "metadata": {},
   "outputs": [],
   "source": [
    "#change this\n",
    "user=101"
   ]
  },
  {
   "cell_type": "markdown",
   "metadata": {},
   "source": [
    "model making to predict"
   ]
  },
  {
   "cell_type": "code",
   "execution_count": 4,
   "metadata": {},
   "outputs": [],
   "source": [
    "model_C=combi_model(user)\n",
    "predictscore=predict(user)\n",
    "model_W=weather_model(user)\n",
    "model_S=style_model(user)\n"
   ]
  },
  {
   "cell_type": "markdown",
   "metadata": {},
   "source": [
    "weather data making"
   ]
  },
  {
   "cell_type": "code",
   "execution_count": 5,
   "metadata": {},
   "outputs": [],
   "source": [
    "#change this\n",
    "weather_data={\n",
    "    \"top\":'shirt',\n",
    "    \"bottom\":'jeans',\n",
    "    \"outer\":'none',\n",
    "    \"weather\":'clouds',\n",
    "}"
   ]
  },
  {
   "cell_type": "markdown",
   "metadata": {},
   "source": [
    "printing the result of model weather"
   ]
  },
  {
   "cell_type": "code",
   "execution_count": 6,
   "metadata": {},
   "outputs": [
    {
     "name": "stdout",
     "output_type": "stream",
     "text": [
      "W score is :  5.0\n"
     ]
    }
   ],
   "source": [
    "W_score=model_W.predict_outfit_rating(weather_data)\n",
    "print('W score is : ',W_score)"
   ]
  },
  {
   "cell_type": "markdown",
   "metadata": {},
   "source": [
    "data model for style"
   ]
  },
  {
   "cell_type": "code",
   "execution_count": 7,
   "metadata": {},
   "outputs": [],
   "source": [
    "#change this\n",
    "style_data={\n",
    "    \"top\":'shirt',\n",
    "    \"bottom\":'jeans',\n",
    "    \"outer\":'none',\n",
    "    \"styleTop\": 'streetwear',\n",
    "    \"styleBottom\":'casual',\n",
    "    \"styleOuter\":'none',\n",
    "    \"styleUser\" : 'formal',\n",
    "}"
   ]
  },
  {
   "cell_type": "code",
   "execution_count": 8,
   "metadata": {},
   "outputs": [
    {
     "name": "stdout",
     "output_type": "stream",
     "text": [
      "S score is :  3.833694742099122\n"
     ]
    }
   ],
   "source": [
    "S_score=model_S.predict_outfit_rating(style_data)\n",
    "print('S score is : ',S_score)"
   ]
  },
  {
   "cell_type": "markdown",
   "metadata": {},
   "source": [
    "data for combination table"
   ]
  },
  {
   "cell_type": "code",
   "execution_count": 9,
   "metadata": {},
   "outputs": [],
   "source": [
    "outer=\"none\"\n",
    "top=\"shirt\"\n",
    "bottom=\"jeans\""
   ]
  },
  {
   "cell_type": "code",
   "execution_count": 10,
   "metadata": {},
   "outputs": [
    {
     "name": "stdout",
     "output_type": "stream",
     "text": [
      "C score is :  3\n"
     ]
    }
   ],
   "source": [
    "C_score=model_C.predict_score_C(outer,top,bottom)\n",
    "print('C score is : ',C_score)"
   ]
  },
  {
   "cell_type": "markdown",
   "metadata": {},
   "source": [
    "combine the scores to create final predict score with predict algorithm"
   ]
  },
  {
   "cell_type": "code",
   "execution_count": 11,
   "metadata": {},
   "outputs": [
    {
     "name": "stdout",
     "output_type": "stream",
     "text": [
      "Predict Score is : 4.050108422629736\n"
     ]
    }
   ],
   "source": [
    "PredictScore=predictscore.predict_score(C_score,S_score,W_score)\n",
    "print('Predict Score is :',PredictScore)"
   ]
  },
  {
   "cell_type": "markdown",
   "metadata": {},
   "source": [
    "so predicted score is 4\n",
    "\n",
    "let's add user rating"
   ]
  },
  {
   "cell_type": "code",
   "execution_count": 12,
   "metadata": {},
   "outputs": [],
   "source": [
    "userRate=1 #change this"
   ]
  },
  {
   "cell_type": "markdown",
   "metadata": {},
   "source": [
    "let's update the score and weights and look how much different it could get"
   ]
  },
  {
   "cell_type": "code",
   "execution_count": 13,
   "metadata": {},
   "outputs": [],
   "source": [
    "# this will give new Score to update the models\n",
    "new_C_score,new_S_score,new_W_score=predictscore.update_weights_and_scores(C_score,S_score,W_score,userRate)"
   ]
  },
  {
   "cell_type": "code",
   "execution_count": 14,
   "metadata": {},
   "outputs": [
    {
     "name": "stdout",
     "output_type": "stream",
     "text": [
      "New C score to change the model is : 1.1957450393983189\n",
      "New S score to change the model is : 2.552032130171206\n",
      "New W score to change the model is : 3.578451000264754\n"
     ]
    }
   ],
   "source": [
    "print('New C score to change the model is :',new_C_score)\n",
    "print('New S score to change the model is :',new_S_score)\n",
    "print('New W score to change the model is :',new_W_score)"
   ]
  },
  {
   "cell_type": "markdown",
   "metadata": {},
   "source": [
    "let's make the model to learn base on new score to change"
   ]
  },
  {
   "cell_type": "markdown",
   "metadata": {},
   "source": [
    "make the data to suits the learning"
   ]
  },
  {
   "cell_type": "code",
   "execution_count": 15,
   "metadata": {},
   "outputs": [],
   "source": [
    "# print(weather_data)\n",
    "weather_data_update=weather_data.copy()\n",
    "weather_data_update['rating']=new_W_score\n",
    "style_data_update=style_data.copy()\n",
    "style_data_update['adjusted_rate']=new_S_score\n"
   ]
  },
  {
   "cell_type": "code",
   "execution_count": 16,
   "metadata": {},
   "outputs": [
    {
     "name": "stdout",
     "output_type": "stream",
     "text": [
      "{'top': 'shirt', 'bottom': 'jeans', 'outer': 'none', 'weather': 'clouds', 'rating': 3.578451000264754}\n",
      "{'top': 'shirt', 'bottom': 'jeans', 'outer': 'none', 'styleTop': 'streetwear', 'styleBottom': 'casual', 'styleOuter': 'none', 'styleUser': 'formal', 'adjusted_rate': 2.552032130171206}\n"
     ]
    }
   ],
   "source": [
    "print(weather_data_update)\n",
    "print(style_data_update)"
   ]
  },
  {
   "cell_type": "code",
   "execution_count": 17,
   "metadata": {},
   "outputs": [],
   "source": [
    "model_C.update_score_C(outer,top,bottom,new_C_score)\n",
    "model_S.update_online_model(style_data_update)\n",
    "model_W.update_online_model(weather_data_update)"
   ]
  },
  {
   "cell_type": "code",
   "execution_count": 18,
   "metadata": {},
   "outputs": [
    {
     "name": "stdout",
     "output_type": "stream",
     "text": [
      "Iteration 1 = Predict Score is : 2.7308575086619182\n"
     ]
    }
   ],
   "source": [
    "\n",
    "W_score=model_W.predict_outfit_rating(weather_data)\n",
    "S_score=model_S.predict_outfit_rating(style_data)\n",
    "C_score=model_C.predict_score_C(outer,top,bottom)\n",
    "PredictScore=predictscore.predict_score(C_score,S_score,W_score)\n",
    "print('Iteration 1 = Predict Score is :',PredictScore)"
   ]
  },
  {
   "cell_type": "code",
   "execution_count": 19,
   "metadata": {},
   "outputs": [
    {
     "name": "stdout",
     "output_type": "stream",
     "text": [
      "Iteration 2 : Predict Score is : 2.2043103507196293\n",
      "Iteration 3 : Predict Score is : 2.026946704417303\n",
      "Iteration 4 : Predict Score is : 1.9729346340364946\n",
      "Iteration 5 : Predict Score is : 1.9570993715509528\n",
      "Iteration 6 : Predict Score is : 1.9525131185400064\n"
     ]
    }
   ],
   "source": [
    "for x in range(5):\n",
    "    new_C_score,new_S_score,new_W_score=predictscore.update_weights_and_scores(C_score,S_score,W_score,userRate)\n",
    "    weather_data_update=weather_data.copy()\n",
    "    weather_data_update['rating']=new_W_score\n",
    "    style_data_update=style_data.copy()\n",
    "    style_data_update['adjusted_rate']=new_S_score\n",
    "    W_score=model_W.predict_outfit_rating(weather_data)\n",
    "    S_score=model_S.predict_outfit_rating(style_data)\n",
    "    C_score=model_C.predict_score_C(outer,top,bottom)\n",
    "    PredictScore=predictscore.predict_score(C_score,S_score,W_score)\n",
    "    print('Iteration',x+2,':','Predict Score is :',PredictScore)"
   ]
  },
  {
   "cell_type": "markdown",
   "metadata": {},
   "source": [
    "bisa dilihat dari 5-6 iterasi,prediksi merunjuk ke satu, dan pelonjakan perubahan dari 4 ke 2 memperlihatkan semakin besar Error ( P - R ), semakin besar pula perubahan nya dan juga perubahan terbesar terjadi pada skor yang paling jauh terhadap skor Real"
   ]
  },
  {
   "cell_type": "markdown",
   "metadata": {},
   "source": []
  }
 ],
 "metadata": {
  "kernelspec": {
   "display_name": "Python 3",
   "language": "python",
   "name": "python3"
  },
  "language_info": {
   "codemirror_mode": {
    "name": "ipython",
    "version": 3
   },
   "file_extension": ".py",
   "mimetype": "text/x-python",
   "name": "python",
   "nbconvert_exporter": "python",
   "pygments_lexer": "ipython3",
   "version": "3.11.9"
  }
 },
 "nbformat": 4,
 "nbformat_minor": 2
}
